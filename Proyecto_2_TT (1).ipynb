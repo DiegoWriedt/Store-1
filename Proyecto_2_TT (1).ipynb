{
  "nbformat": 4,
  "nbformat_minor": 0,
  "metadata": {
    "colab": {
      "provenance": []
    },
    "kernelspec": {
      "name": "python3",
      "display_name": "Python 3"
    },
    "language_info": {
      "name": "python"
    }
  },
  "cells": [
    {
      "cell_type": "markdown",
      "source": [
        "# Proyecto 2 DWR"
      ],
      "metadata": {
        "id": "GJclOV93p6ba"
      }
    },
    {
      "cell_type": "code",
      "execution_count": null,
      "metadata": {
        "id": "zIt9XFO4pV63"
      },
      "outputs": [],
      "source": [
        "users = [\n",
        "    ['32415', ' mike_reed ', 32.0, ['ELECTRONICS', 'SPORT', 'BOOKS'], [894, 213, 173]],\n",
        "    ['31980', 'kate morgan', 24.0, ['CLOTHES', 'BOOKS'], [439, 390]],\n",
        "    ['32156', ' john doe ', 37.0, ['ELECTRONICS', 'HOME', 'FOOD'], [459, 120, 99]],\n",
        "    ['32761', 'SAMANTHA SMITH', 29.0, ['CLOTHES', 'ELECTRONICS', 'BEAUTY'], [299, 679, 85]],\n",
        "    ['32984', 'David White', 41.0, ['BOOKS', 'HOME', 'SPORT'], [234, 329, 243]],\n",
        "    ['33001', 'emily brown', 26.0, ['BEAUTY', 'HOME', 'FOOD'], [213, 659, 79]],\n",
        "    ['33767', ' Maria Garcia', 33.0, ['CLOTHES', 'FOOD', 'BEAUTY'], [499, 189, 63]],\n",
        "    ['33912', 'JOSE MARTINEZ', 22.0, ['SPORT', 'ELECTRONICS', 'HOME'], [259, 549, 109]],\n",
        "    ['34009', 'lisa wilson ', 35.0, ['HOME', 'BOOKS', 'CLOTHES'], [329, 189, 329]],\n",
        "    ['34278', 'James Lee', 28.0, ['BEAUTY', 'CLOTHES', 'ELECTRONICS'], [189, 299, 579]],\n",
        "]\n"
      ]
    },
    {
      "cell_type": "markdown",
      "source": [
        "## Paso 1"
      ],
      "metadata": {
        "id": "NZUirgwpp-nt"
      }
    },
    {
      "cell_type": "code",
      "source": [
        "def clean_user (user): # define tu función aquí\n",
        "\n",
        "    user_id = user[0]\n",
        "    user_name = user[1]\n",
        "    user_age = user[2]\n",
        "    user_category = user[3]\n",
        "    user_purchases = user[4]\n",
        "    # Paso 1: elimina del nombre espacios iniciales y finales, así como guiones\n",
        "    user_name_1 = user_name.strip().replace('_', ' ')\n",
        "\n",
        "    # Paso 2: convierte la edad en entero\n",
        "    user_age_1 = int(user_age)\n",
        "\n",
        "    # Paso 3: separa el nombre y el apellido en una sublista\n",
        "    user_name_split = user_name_1.split()\n",
        "\n",
        "    # Prepara la lista con la información completa del usuario\n",
        "    # Reemplaza el nombre y la edad originales con los datos limpios\n",
        "    user_info = [user_id, user_name_split, user_age_1, user_category, user_purchases]\n",
        "\n",
        "\n",
        "    return user_info\n",
        "\n",
        "# Prueba la función\n",
        "test_user = ['32415', ' mike_reed ', 32.0, ['ELECTRONICS', 'SPORT', 'BOOKS'], [894, 213, 173]]\n",
        "\n",
        "print(clean_user(test_user))"
      ],
      "metadata": {
        "colab": {
          "base_uri": "https://localhost:8080/"
        },
        "id": "En2jQhJcqAhP",
        "outputId": "49a58da3-5e1f-4dfe-8f48-e53941cef1e8"
      },
      "execution_count": null,
      "outputs": [
        {
          "output_type": "stream",
          "name": "stdout",
          "text": [
            "['32415', ['mike', 'reed'], 32, ['ELECTRONICS', 'SPORT', 'BOOKS'], [894, 213, 173]]\n"
          ]
        }
      ]
    },
    {
      "cell_type": "markdown",
      "source": [
        "## Paso 2"
      ],
      "metadata": {
        "id": "pheDcw2oxm2o"
      }
    },
    {
      "cell_type": "code",
      "source": [
        "fav_categories = ['ELECTRONICS', 'SPORT', 'BOOKS']\n",
        "fav_categories_low = []\n",
        "for category in fav_categories:\n",
        "    fav_categories_low.append(category.lower())\n",
        "\n",
        "\n",
        "print(fav_categories_low)"
      ],
      "metadata": {
        "colab": {
          "base_uri": "https://localhost:8080/"
        },
        "id": "4x-ubjLsxoU3",
        "outputId": "0608cb78-26cb-428b-8bd6-e52b9e238755"
      },
      "execution_count": null,
      "outputs": [
        {
          "output_type": "stream",
          "name": "stdout",
          "text": [
            "['electronics', 'sport', 'books']\n"
          ]
        }
      ]
    },
    {
      "cell_type": "markdown",
      "source": [
        "## Paso 3"
      ],
      "metadata": {
        "id": "uMHEUYdBx94b"
      }
    },
    {
      "cell_type": "code",
      "source": [
        "users = [\n",
        "    ['32415', ' mike_reed ', 32.0, ['ELECTRONICS', 'SPORT', 'BOOKS'], [894, 213, 173]],\n",
        "    ['31980', 'kate morgan', 24.0, ['CLOTHES', 'BOOKS'], [439, 390]],\n",
        "    ['32156', ' john doe ', 37.0, ['ELECTRONICS', 'HOME', 'FOOD'], [459, 120, 99]],\n",
        "    ['32761', 'SAMANTHA SMITH', 29.0, ['CLOTHES', 'ELECTRONICS', 'BEAUTY'], [299, 679, 85]],\n",
        "    ['32984', 'David White', 41.0, ['BOOKS', 'HOME', 'SPORT'], [234, 329, 243]],\n",
        "    ['33001', 'emily brown', 26.0, ['BEAUTY', 'HOME', 'FOOD'], [213, 659, 79]],\n",
        "    ['33767', ' Maria Garcia', 33.0, ['CLOTHES', 'FOOD', 'BEAUTY'], [499, 189, 63]],\n",
        "    ['33912', 'JOSE MARTINEZ', 22.0, ['SPORT', 'ELECTRONICS', 'HOME'], [259, 549, 109]],\n",
        "    ['34009', 'lisa wilson ', 35.0, ['HOME', 'BOOKS', 'CLOTHES'], [329, 189, 329]],\n",
        "    ['34278', 'James Lee', 28.0, ['BEAUTY', 'CLOTHES', 'ELECTRONICS'], [189, 299, 579]],\n",
        "]\n",
        "\n",
        "users_categories_low = []\n",
        "\n",
        "for user in users:\n",
        "    categories_low = []\n",
        "    for category in user[3]:  # user[3] contiene la lista de categorías\n",
        "        lowered_category = category.lower()\n",
        "        categories_low.append(lowered_category)\n",
        "\n",
        "    user.pop(3)  # elimina la lista original de categorías (en mayúsculas)\n",
        "    user.insert(3, categories_low)  # inserta la nueva lista en minúsculas en la misma posición\n",
        "\n",
        "    users_categories_low.append(user)  # agrega el usuario actualizado a la nueva lista\n",
        "\n",
        "for user in users_categories_low:\n",
        "    print(user)\n"
      ],
      "metadata": {
        "colab": {
          "base_uri": "https://localhost:8080/"
        },
        "id": "jZ2o-CWV64Wp",
        "outputId": "68337ffd-7139-4e21-d93d-957b1f3629a2"
      },
      "execution_count": null,
      "outputs": [
        {
          "output_type": "stream",
          "name": "stdout",
          "text": [
            "['32415', ' mike_reed ', 32.0, ['electronics', 'sport', 'books'], [894, 213, 173]]\n",
            "['31980', 'kate morgan', 24.0, ['clothes', 'books'], [439, 390]]\n",
            "['32156', ' john doe ', 37.0, ['electronics', 'home', 'food'], [459, 120, 99]]\n",
            "['32761', 'SAMANTHA SMITH', 29.0, ['clothes', 'electronics', 'beauty'], [299, 679, 85]]\n",
            "['32984', 'David White', 41.0, ['books', 'home', 'sport'], [234, 329, 243]]\n",
            "['33001', 'emily brown', 26.0, ['beauty', 'home', 'food'], [213, 659, 79]]\n",
            "['33767', ' Maria Garcia', 33.0, ['clothes', 'food', 'beauty'], [499, 189, 63]]\n",
            "['33912', 'JOSE MARTINEZ', 22.0, ['sport', 'electronics', 'home'], [259, 549, 109]]\n",
            "['34009', 'lisa wilson ', 35.0, ['home', 'books', 'clothes'], [329, 189, 329]]\n",
            "['34278', 'James Lee', 28.0, ['beauty', 'clothes', 'electronics'], [189, 299, 579]]\n"
          ]
        }
      ]
    },
    {
      "cell_type": "markdown",
      "source": [
        "## Paso 4: para limpiar los datos de los usuarios"
      ],
      "metadata": {
        "id": "ciq0p0JZ79Ke"
      }
    },
    {
      "cell_type": "code",
      "source": [
        "def clean_user(user_info, name_index, age_index, cat_index):\n",
        "\n",
        "    user_id = user_info[0]\n",
        "    user_name = user_info[name_index]\n",
        "    user_age = user_info[age_index]\n",
        "    user_category = user_info[cat_index]\n",
        "    user_purchases = user_info[4]\n",
        "\n",
        "    # Paso 1: limpia y transforma el nombre\n",
        "    user_name_clean = user_name.lower().strip().replace('_', ' ')\n",
        "    user_name_split = user_name_clean.split()\n",
        "\n",
        "    # Paso 2: convierte la edad en entero\n",
        "    user_age_clean = int(user_age)\n",
        "\n",
        "    # Paso 3: convierte las categorías a minúsculas\n",
        "    categories_clean = [category.lower() for category in user_category]\n",
        "\n",
        "    # Prepara la lista con la información completa del usuario\n",
        "    # Reemplaza el nombre y la edad originales con los datos limpios\n",
        "    cleaned_user = [user_id, user_name_split, user_age_clean, categories_clean, user_purchases]\n",
        "\n",
        "    return cleaned_user\n",
        "\n",
        "\n",
        "users = [\n",
        "    ['32415', ' mike_reed ', 32.0, ['ELECTRONICS', 'SPORT', 'BOOKS'], [894, 213, 173]],\n",
        "    ['31980', 'kate morgan', 24.0, ['CLOTHES', 'BOOKS'], [439, 390]],\n",
        "    ['32156', ' john doe ', 37.0, ['ELECTRONICS', 'HOME', 'FOOD'], [459, 120, 99]],\n",
        "    ['32761', 'SAMANTHA SMITH', 29.0, ['CLOTHES', 'ELECTRONICS', 'BEAUTY'], [299, 679, 85]],\n",
        "    ['32984', 'David White', 41.0, ['BOOKS', 'HOME', 'SPORT'], [234, 329, 243]],\n",
        "    ['33001', 'emily brown', 26.0, ['BEAUTY', 'HOME', 'FOOD'], [213, 659, 79]],\n",
        "    ['33767', ' Maria Garcia', 33.0, ['CLOTHES', 'FOOD', 'BEAUTY'], [499, 189, 63]],\n",
        "    ['33912', 'JOSE MARTINEZ', 22.0, ['SPORT', 'ELECTRONICS', 'HOME'], [259, 549, 109]],\n",
        "    ['34009', 'lisa wilson ', 35.0, ['HOME', 'BOOKS', 'CLOTHES'], [329, 189, 329]],\n",
        "    ['34278', 'James Lee', 28.0, ['BEAUTY', 'CLOTHES', 'ELECTRONICS'], [189, 299, 579]],\n",
        "]\n",
        "\n",
        "\n",
        "users_cleaned = []\n",
        "\n",
        "for user in users:\n",
        "    user_cleaned = clean_user(user, 1, 2, 3)\n",
        "    users_cleaned.append(user_cleaned)\n",
        "\n",
        "\n",
        "for user in users_cleaned:\n",
        "    print(user)\n"
      ],
      "metadata": {
        "colab": {
          "base_uri": "https://localhost:8080/"
        },
        "id": "423_sanv8CMi",
        "outputId": "653dca0c-defe-42a3-fd9c-9e61134988dd"
      },
      "execution_count": null,
      "outputs": [
        {
          "output_type": "stream",
          "name": "stdout",
          "text": [
            "['32415', ['mike', 'reed'], 32, ['electronics', 'sport', 'books'], [894, 213, 173]]\n",
            "['31980', ['kate', 'morgan'], 24, ['clothes', 'books'], [439, 390]]\n",
            "['32156', ['john', 'doe'], 37, ['electronics', 'home', 'food'], [459, 120, 99]]\n",
            "['32761', ['samantha', 'smith'], 29, ['clothes', 'electronics', 'beauty'], [299, 679, 85]]\n",
            "['32984', ['david', 'white'], 41, ['books', 'home', 'sport'], [234, 329, 243]]\n",
            "['33001', ['emily', 'brown'], 26, ['beauty', 'home', 'food'], [213, 659, 79]]\n",
            "['33767', ['maria', 'garcia'], 33, ['clothes', 'food', 'beauty'], [499, 189, 63]]\n",
            "['33912', ['jose', 'martinez'], 22, ['sport', 'electronics', 'home'], [259, 549, 109]]\n",
            "['34009', ['lisa', 'wilson'], 35, ['home', 'books', 'clothes'], [329, 189, 329]]\n",
            "['34278', ['james', 'lee'], 28, ['beauty', 'clothes', 'electronics'], [189, 299, 579]]\n"
          ]
        }
      ]
    },
    {
      "cell_type": "markdown",
      "source": [
        "## Paso 5: para conocer los ingresos totales de la empresa viendo lo gastado/depositado por cada usuario"
      ],
      "metadata": {
        "id": "ibsrV8jgCQSi"
      }
    },
    {
      "cell_type": "code",
      "source": [
        "users = [['32415', ['mike', 'reed'], 32, ['electronics', 'sport', 'books'], [894, 213, 173]],\n",
        "         ['31980', ['kate', 'morgan'], 24, ['clothes', 'books'], [439, 390]],\n",
        "         ['32156', ['john', 'doe'], 37, ['electronics', 'home', 'food'], [459, 120, 99]],\n",
        "         ['32761', ['samantha', 'smith'], 29, ['clothes', 'electronics', 'beauty'], [299, 679, 85]],\n",
        "         ['32984', ['david', 'white'], 41, ['books', 'home', 'sport'], [234, 329, 243]],\n",
        "         ['33001', ['emily', 'brown'], 26, ['beauty', 'home', 'food'], [213, 659, 79]],\n",
        "         ['33767', ['maria', 'garcia'], 33, ['clothes', 'food', 'beauty'], [499, 189, 63]],\n",
        "         ['33912', ['jose', 'martinez'], 22, ['sport', 'electronics', 'home'], [259, 549, 109]],\n",
        "         ['34009', ['lisa', 'wilson'], 35, ['home', 'books', 'clothes'], [329, 189, 329]],\n",
        "         ['34278', ['james', 'lee'], 28, ['beauty', 'clothes', 'electronics'], [189, 299, 579]]]\n",
        "\n",
        "revenue = 0\n",
        "\n",
        "for user in users:\n",
        "    spending_list = user[-1]\n",
        "    total = sum(spending_list) # escribe tu código aquí\n",
        "    revenue += total\n",
        "\n",
        "print(revenue)"
      ],
      "metadata": {
        "colab": {
          "base_uri": "https://localhost:8080/"
        },
        "id": "7T2vEkNJDaL5",
        "outputId": "e767992b-3908-4deb-cfed-fab9b6b5e2d9"
      },
      "execution_count": null,
      "outputs": [
        {
          "output_type": "stream",
          "name": "stdout",
          "text": [
            "9189\n"
          ]
        }
      ]
    },
    {
      "cell_type": "markdown",
      "source": [
        "## Paso 6"
      ],
      "metadata": {
        "id": "qeH7qz8NE1Nq"
      }
    },
    {
      "cell_type": "code",
      "source": [
        "from random import randint\n",
        "\n",
        "total_amount_spent = 1280\n",
        "target_amount = 1500\n",
        "\n",
        "while total_amount_spent <= target_amount: # escribe tu código aquí\n",
        "\tnew_purchase = randint(30, 80) # generamos un número aleatorio de 30 a 80\n",
        "\ttotal_amount_spent +=  new_purchase# escribe tu código aquí\n",
        "\n",
        "print(total_amount_spent)"
      ],
      "metadata": {
        "colab": {
          "base_uri": "https://localhost:8080/"
        },
        "id": "kGSL4wqiE3Q6",
        "outputId": "de5e64db-8982-417d-a85e-3a61a17375b5"
      },
      "execution_count": null,
      "outputs": [
        {
          "output_type": "stream",
          "name": "stdout",
          "text": [
            "1509\n"
          ]
        }
      ]
    },
    {
      "cell_type": "markdown",
      "source": [
        "## Paso 7: Separar un usuario por edad"
      ],
      "metadata": {
        "id": "4me3NXL5GQ3F"
      }
    },
    {
      "cell_type": "code",
      "source": [
        "users = [['32415', ['mike', 'reed'], 32, ['electronics', 'sport', 'books'], [894, 213, 173]],\n",
        "         ['31980', ['kate', 'morgan'], 24, ['clothes', 'books'], [439, 390]],\n",
        "         ['32156', ['john', 'doe'], 37, ['electronics', 'home', 'food'], [459, 120, 99]],\n",
        "         ['32761', ['samantha', 'smith'], 29, ['clothes', 'electronics', 'beauty'], [299, 679, 85]],\n",
        "         ['32984', ['david', 'white'], 41, ['books', 'home', 'sport'], [234, 329, 243]],\n",
        "         ['33001', ['emily', 'brown'], 26, ['beauty', 'home', 'food'], [213, 659, 79]],\n",
        "         ['33767', ['maria', 'garcia'], 33, ['clothes', 'food', 'beauty'], [499, 189, 63]],\n",
        "         ['33912', ['jose', 'martinez'], 22, ['sport', 'electronics', 'home'], [259, 549, 109]],\n",
        "         ['34009', ['lisa', 'wilson'], 35, ['home', 'books', 'clothes'], [329, 189, 329]],\n",
        "         ['34278', ['james', 'lee'], 28, ['beauty', 'clothes', 'electronics'], [189, 299, 579]]]\n",
        "\n",
        "\n",
        "for user in users:\n",
        "  if user[2] < 30:\n",
        "    print(user[1])\n"
      ],
      "metadata": {
        "colab": {
          "base_uri": "https://localhost:8080/"
        },
        "id": "HcsV1dWxGSUF",
        "outputId": "6b90364f-b57d-48fc-c7d6-e7b6c09aafa2"
      },
      "execution_count": null,
      "outputs": [
        {
          "output_type": "stream",
          "name": "stdout",
          "text": [
            "['kate', 'morgan']\n",
            "['samantha', 'smith']\n",
            "['emily', 'brown']\n",
            "['jose', 'martinez']\n",
            "['james', 'lee']\n"
          ]
        }
      ]
    },
    {
      "cell_type": "markdown",
      "source": [
        "## Paso 8: separar un usuario por edad y dinero gastado"
      ],
      "metadata": {
        "id": "DGNl9hDrGptc"
      }
    },
    {
      "cell_type": "code",
      "source": [
        "users = [['32415', ['mike', 'reed'], 32, ['electronics', 'sport', 'books'], [894, 213, 173]],\n",
        "         ['31980', ['kate', 'morgan'], 24, ['clothes', 'books'], [439, 390]],\n",
        "         ['32156', ['john', 'doe'], 37, ['electronics', 'home', 'food'], [459, 120, 99]],\n",
        "         ['32761', ['samantha', 'smith'], 29, ['clothes', 'electronics', 'beauty'], [299, 679, 85]],\n",
        "         ['32984', ['david', 'white'], 41, ['books', 'home', 'sport'], [234, 329, 243]],\n",
        "         ['33001', ['emily', 'brown'], 26, ['beauty', 'home', 'food'], [213, 659, 79]],\n",
        "         ['33767', ['maria', 'garcia'], 33, ['clothes', 'food', 'beauty'], [499, 189, 63]],\n",
        "         ['33912', ['jose', 'martinez'], 22, ['sport', 'electronics', 'home'], [259, 549, 109]],\n",
        "         ['34009', ['lisa', 'wilson'], 35, ['home', 'books', 'clothes'], [329, 189, 329]],\n",
        "         ['34278', ['james', 'lee'], 28, ['beauty', 'clothes', 'electronics'], [189, 299, 579]]]\n",
        "\n",
        "for user in users:\n",
        "  if user[2] < 30 and sum(user[-1]) > 1000:\n",
        "    print(user[1], sum(user[-1]))"
      ],
      "metadata": {
        "colab": {
          "base_uri": "https://localhost:8080/"
        },
        "id": "MwnzvqmFGr3N",
        "outputId": "e0c7ef2f-375f-49e8-dcb7-29d4bd7b5060"
      },
      "execution_count": null,
      "outputs": [
        {
          "output_type": "stream",
          "name": "stdout",
          "text": [
            "['samantha', 'smith'] 1063\n",
            "['james', 'lee'] 1067\n"
          ]
        }
      ]
    },
    {
      "cell_type": "markdown",
      "source": [
        "## Paso 9: separar un nombre y edad por categoria"
      ],
      "metadata": {
        "id": "n6FoDNVtHjfb"
      }
    },
    {
      "cell_type": "code",
      "source": [
        "users = [['32415', ['mike', 'reed'], 32, ['electronics', 'sport', 'books'], [894, 213, 173]],\n",
        "         ['31980', ['kate', 'morgan'], 24, ['clothes', 'books'], [439, 390]],\n",
        "         ['32156', ['john', 'doe'], 37, ['electronics', 'home', 'food'], [459, 120, 99]],\n",
        "         ['32761', ['samantha', 'smith'], 29, ['clothes', 'electronics', 'beauty'], [299, 679, 85]],\n",
        "         ['32984', ['david', 'white'], 41, ['books', 'home', 'sport'], [234, 329, 243]],\n",
        "         ['33001', ['emily', 'brown'], 26, ['beauty', 'home', 'food'], [213, 659, 79]],\n",
        "         ['33767', ['maria', 'garcia'], 33, ['clothes', 'food', 'beauty'], [499, 189, 63]],\n",
        "         ['33912', ['jose', 'martinez'], 22, ['sport', 'electronics', 'home'], [259, 549, 109]],\n",
        "         ['34009', ['lisa', 'wilson'], 35, ['home', 'books', 'clothes'], [329, 189, 329]],\n",
        "         ['34278', ['james', 'lee'], 28, ['beauty', 'clothes', 'electronics'], [189, 299, 579]]]\n",
        "\n",
        "for user in users:\n",
        "  for category in user[3]:\n",
        "    if category == 'clothes':\n",
        "      firstname = user[1][0]\n",
        "      age = user[2]\n",
        "      print(firstname, age)\n"
      ],
      "metadata": {
        "colab": {
          "base_uri": "https://localhost:8080/"
        },
        "id": "Mqz-15IcHmaL",
        "outputId": "dfc973c9-4184-42b5-854b-d09333a94051"
      },
      "execution_count": null,
      "outputs": [
        {
          "output_type": "stream",
          "name": "stdout",
          "text": [
            "kate 24\n",
            "samantha 29\n",
            "maria 33\n",
            "lisa 35\n",
            "james 28\n"
          ]
        }
      ]
    },
    {
      "cell_type": "markdown",
      "source": [
        "## Paso 10"
      ],
      "metadata": {
        "id": "RyqwD-XaKJdT"
      }
    },
    {
      "cell_type": "code",
      "source": [
        "def get_client_by_cat(users, id_index, name_index, age_index, cat_index, purch_index,  filter_category):\n",
        "  # escribe tu código aquí\n",
        "  results = []  # escribe tu código aquí\n",
        "  for user in users:\n",
        "    id = user[id_index]\n",
        "    name = user[name_index]\n",
        "    age = user[age_index]\n",
        "    category = user[cat_index]\n",
        "    purch = user[purch_index]\n",
        "\n",
        "    if filter_category in category:\n",
        "      total = sum(purch)\n",
        "      results.append([id, name, age, total])\n",
        "  return results\n",
        "# La lista de usuarios\n",
        "users = [\n",
        "    ['32415', ['mike', 'reed'], 32, ['electronics', 'sport', 'books'], [894, 213, 173]],\n",
        "    ['31980', ['kate', 'morgan'], 24, ['clothes', 'books'], [439, 390]],\n",
        "    ['32156', ['john', 'doe'], 37, ['electronics', 'home', 'food'], [459, 120, 99]],\n",
        "    ['32761', ['samantha', 'smith'], 29, ['clothes', 'electronics', 'beauty'], [299, 679, 85]],\n",
        "    ['32984', ['david', 'white'], 41, ['books', 'home', 'sport'], [234, 329, 243]],\n",
        "    ['33001', ['emily', 'brown'], 26, ['beauty', 'home', 'food'], [213, 659, 79]],\n",
        "    ['33767', ['maria', 'garcia'], 33, ['clothes', 'food', 'beauty'], [499, 189, 63]],\n",
        "    ['33912', ['jose', 'martinez'], 22, ['sport', 'electronics', 'home'], [259, 549, 109]],\n",
        "    ['34009', ['lisa', 'wilson'], 35, ['home', 'books', 'clothes'], [329, 189, 329]],\n",
        "    ['34278', ['james', 'lee'], 28, ['beauty', 'clothes', 'electronics'], [189, 299, 579]]\n",
        "]\n",
        "\n",
        "# Llama a la función con la categoría 'home'\n",
        "result = get_client_by_cat(users, 0, 1, 2, 3, 4, 'home')# escribe tu código aquí\n",
        "\n",
        "# Muestra en pantalla la lista que resulta\n",
        "for res in result:\n",
        "  print(res)\n"
      ],
      "metadata": {
        "id": "vmizEnDvKL2w",
        "colab": {
          "base_uri": "https://localhost:8080/"
        },
        "outputId": "f5dccb79-d8b1-4b26-ff1d-a8f2c0b9dc20"
      },
      "execution_count": null,
      "outputs": [
        {
          "output_type": "stream",
          "name": "stdout",
          "text": [
            "['32156', ['john', 'doe'], 37, 678]\n",
            "['32984', ['david', 'white'], 41, 806]\n",
            "['33001', ['emily', 'brown'], 26, 951]\n",
            "['33912', ['jose', 'martinez'], 22, 917]\n",
            "['34009', ['lisa', 'wilson'], 35, 847]\n"
          ]
        }
      ]
    }
  ]
}